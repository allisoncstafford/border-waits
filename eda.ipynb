{
 "cells": [
  {
   "cell_type": "code",
   "execution_count": 1,
   "metadata": {},
   "outputs": [],
   "source": [
    "import pandas as pd"
   ]
  },
  {
   "cell_type": "code",
   "execution_count": 28,
   "metadata": {},
   "outputs": [],
   "source": [
    "df = pd.read_csv('../data/entering_canada/bwt-taf-2016-07-01--2016-09-30-en.csv')"
   ]
  },
  {
   "cell_type": "code",
   "execution_count": 29,
   "metadata": {},
   "outputs": [
    {
     "data": {
      "text/plain": [
       "array(['Huntingdon, BC', 'Aldergrove, BC', 'Windsor, ON', 'Sarnia, ON',\n",
       "       'Delta, BC', 'Cornwall, ON', 'Coutts, AB', 'Surrey, BC',\n",
       "       'Edmundston, NB', 'Emerson, MB', 'Fort Frances, ON',\n",
       "       'North Portal, SK', 'Fort Erie, ON', 'Prescott, ON',\n",
       "       'Queenston, ON', 'Niagara Falls, ON', 'Sault Ste. Marie, ON',\n",
       "       'St.Stephen, NB', 'Stanstead, QC', 'St. Armand, QC', 'Lacolle, QC',\n",
       "       'Gananoque, ON', 'Belleville, NB'], dtype=object)"
      ]
     },
     "execution_count": 29,
     "metadata": {},
     "output_type": "execute_result"
    }
   ],
   "source": [
    "df['Location'].unique()"
   ]
  },
  {
   "cell_type": "code",
   "execution_count": 30,
   "metadata": {},
   "outputs": [],
   "source": [
    "target_locations = ['Surrey, BC', 'Huntingdon, BC', 'Aldergrove, BC']"
   ]
  },
  {
   "cell_type": "code",
   "execution_count": 31,
   "metadata": {},
   "outputs": [
    {
     "data": {
      "text/html": [
       "<div>\n",
       "<style scoped>\n",
       "    .dataframe tbody tr th:only-of-type {\n",
       "        vertical-align: middle;\n",
       "    }\n",
       "\n",
       "    .dataframe tbody tr th {\n",
       "        vertical-align: top;\n",
       "    }\n",
       "\n",
       "    .dataframe thead th {\n",
       "        text-align: right;\n",
       "    }\n",
       "</style>\n",
       "<table border=\"1\" class=\"dataframe\">\n",
       "  <thead>\n",
       "    <tr style=\"text-align: right;\">\n",
       "      <th></th>\n",
       "      <th>CBSA Office</th>\n",
       "      <th>Location</th>\n",
       "      <th>Updated</th>\n",
       "      <th>Commercial Flow</th>\n",
       "      <th>Travellers Flow</th>\n",
       "    </tr>\n",
       "  </thead>\n",
       "  <tbody>\n",
       "    <tr>\n",
       "      <th>0</th>\n",
       "      <td>Abbotsford-Huntingdon</td>\n",
       "      <td>Huntingdon, BC</td>\n",
       "      <td>2016-07-01 00:00 PDT</td>\n",
       "      <td>No delay</td>\n",
       "      <td>No delay</td>\n",
       "    </tr>\n",
       "    <tr>\n",
       "      <th>1</th>\n",
       "      <td>Abbotsford-Huntingdon</td>\n",
       "      <td>Huntingdon, BC</td>\n",
       "      <td>2016-07-01 01:00 PDT</td>\n",
       "      <td>No delay</td>\n",
       "      <td>No delay</td>\n",
       "    </tr>\n",
       "    <tr>\n",
       "      <th>2</th>\n",
       "      <td>Abbotsford-Huntingdon</td>\n",
       "      <td>Huntingdon, BC</td>\n",
       "      <td>2016-07-01 02:00 PDT</td>\n",
       "      <td>No delay</td>\n",
       "      <td>No delay</td>\n",
       "    </tr>\n",
       "    <tr>\n",
       "      <th>3</th>\n",
       "      <td>Abbotsford-Huntingdon</td>\n",
       "      <td>Huntingdon, BC</td>\n",
       "      <td>2016-07-01 03:00 PDT</td>\n",
       "      <td>No delay</td>\n",
       "      <td>No delay</td>\n",
       "    </tr>\n",
       "    <tr>\n",
       "      <th>4</th>\n",
       "      <td>Abbotsford-Huntingdon</td>\n",
       "      <td>Huntingdon, BC</td>\n",
       "      <td>2016-07-01 04:00 PDT</td>\n",
       "      <td>No delay</td>\n",
       "      <td>No delay</td>\n",
       "    </tr>\n",
       "    <tr>\n",
       "      <th>...</th>\n",
       "      <td>...</td>\n",
       "      <td>...</td>\n",
       "      <td>...</td>\n",
       "      <td>...</td>\n",
       "      <td>...</td>\n",
       "    </tr>\n",
       "    <tr>\n",
       "      <th>40313</th>\n",
       "      <td>Pacific Highway</td>\n",
       "      <td>Surrey, BC</td>\n",
       "      <td>2016-09-30 22:00 PDT</td>\n",
       "      <td>No delay</td>\n",
       "      <td>27</td>\n",
       "    </tr>\n",
       "    <tr>\n",
       "      <th>40314</th>\n",
       "      <td>Pacific Highway</td>\n",
       "      <td>Surrey, BC</td>\n",
       "      <td>2016-09-30 22:00 PDT</td>\n",
       "      <td>No delay</td>\n",
       "      <td>20</td>\n",
       "    </tr>\n",
       "    <tr>\n",
       "      <th>40315</th>\n",
       "      <td>Pacific Highway</td>\n",
       "      <td>Surrey, BC</td>\n",
       "      <td>2016-09-30 23:00 PDT</td>\n",
       "      <td>8</td>\n",
       "      <td>25</td>\n",
       "    </tr>\n",
       "    <tr>\n",
       "      <th>40316</th>\n",
       "      <td>Pacific Highway</td>\n",
       "      <td>Surrey, BC</td>\n",
       "      <td>2016-09-30 23:00 PDT</td>\n",
       "      <td>10</td>\n",
       "      <td>15</td>\n",
       "    </tr>\n",
       "    <tr>\n",
       "      <th>40317</th>\n",
       "      <td>Pacific Highway</td>\n",
       "      <td>Surrey, BC</td>\n",
       "      <td>2016-09-30 23:00 PDT</td>\n",
       "      <td>13</td>\n",
       "      <td>3</td>\n",
       "    </tr>\n",
       "  </tbody>\n",
       "</table>\n",
       "<p>20457 rows × 5 columns</p>\n",
       "</div>"
      ],
      "text/plain": [
       "                 CBSA Office        Location               Updated  \\\n",
       "0      Abbotsford-Huntingdon  Huntingdon, BC  2016-07-01 00:00 PDT   \n",
       "1      Abbotsford-Huntingdon  Huntingdon, BC  2016-07-01 01:00 PDT   \n",
       "2      Abbotsford-Huntingdon  Huntingdon, BC  2016-07-01 02:00 PDT   \n",
       "3      Abbotsford-Huntingdon  Huntingdon, BC  2016-07-01 03:00 PDT   \n",
       "4      Abbotsford-Huntingdon  Huntingdon, BC  2016-07-01 04:00 PDT   \n",
       "...                      ...             ...                   ...   \n",
       "40313        Pacific Highway      Surrey, BC  2016-09-30 22:00 PDT   \n",
       "40314        Pacific Highway      Surrey, BC  2016-09-30 22:00 PDT   \n",
       "40315        Pacific Highway      Surrey, BC  2016-09-30 23:00 PDT   \n",
       "40316        Pacific Highway      Surrey, BC  2016-09-30 23:00 PDT   \n",
       "40317        Pacific Highway      Surrey, BC  2016-09-30 23:00 PDT   \n",
       "\n",
       "      Commercial Flow Travellers Flow  \n",
       "0            No delay        No delay  \n",
       "1            No delay        No delay  \n",
       "2            No delay        No delay  \n",
       "3            No delay        No delay  \n",
       "4            No delay        No delay  \n",
       "...               ...             ...  \n",
       "40313        No delay              27  \n",
       "40314        No delay              20  \n",
       "40315               8              25  \n",
       "40316              10              15  \n",
       "40317              13               3  \n",
       "\n",
       "[20457 rows x 5 columns]"
      ]
     },
     "execution_count": 31,
     "metadata": {},
     "output_type": "execute_result"
    }
   ],
   "source": [
    "df.loc[(df['Location'].isin(target_locations)) & (df['Travellers Flow'] != 'No Delay')]"
   ]
  },
  {
   "cell_type": "code",
   "execution_count": null,
   "metadata": {},
   "outputs": [],
   "source": []
  }
 ],
 "metadata": {
  "kernelspec": {
   "display_name": "Python (border-env)",
   "language": "python",
   "name": "border-env"
  },
  "language_info": {
   "codemirror_mode": {
    "name": "ipython",
    "version": 3
   },
   "file_extension": ".py",
   "mimetype": "text/x-python",
   "name": "python",
   "nbconvert_exporter": "python",
   "pygments_lexer": "ipython3",
   "version": "3.7.5"
  }
 },
 "nbformat": 4,
 "nbformat_minor": 2
}
